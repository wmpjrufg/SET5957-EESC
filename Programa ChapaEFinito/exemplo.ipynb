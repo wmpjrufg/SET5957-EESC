import numpy as np
import pandas as pd
#=========================================================================
# ETAPA 1: DECLARAÇÃO DOS PARÂMETROS DE ENTRADA VIA DIGITAÇÃO OU ARQUIVO
#          DE ENTRADA
#=========================================================================

# Livro D. Logan: Exemplo 2  pág. 356

# Passo 1.1: Matriz de coordenadas
Coordenadas = np.array([[0, 0],[10, 0],[10, 20],[20, 0]])
NumNos, lixo = Coordenadas.shape
# Passo 1.2: Matriz de materiais dada formato de curva
Materiais = np.array([[2.5E7,  0.3]])
NumMat, lixo = Materiais.shape
# Passo 1.3: Matriz de seções
Secoes =  np.array([[1]])
NumSec, lixo = Secoes.shape
# Passo 1.4: Matriz de elementos
ElementosProp = np.array([[1, 3, 2, 1, 1],[1, 4, 3, 1, 1]])
NumElem, lixo = ElementosProp.shape

# Passo 1.5: Matriz de apoios
Apoios = np.array([[1, 1, 1],[2, 1, 1]])
NumApo, lixo = Apoios.shape

# Passo 1.6: Matriz de Forças nodais
ForcaExtNodal = np.array([[3, 5000, 0],[4, 5000, 0]])
NumForNodal, lixo = ForcaExtNodal.shape

# Passo 1.7: Matriz de Forças em elementos
ForcaExtelem = np.array([[3, 5000, 0],[4, 5000, 0]])
NumForNodal, lixo = ForcaExtelem.shape

# Passo 1.7: Tipo do Elemento finito e descrições do processo de solução
TipoMalha = "CST0001"
TipoPresc = "Força"
NumIncrem = 10

teste = ForExtNo/NumIncrem

print(teste)

nGdlTotal, gdlTotal = graus_de_lib_totais(nNos, nGrauPorNo)
print(nGdlTotal)
print(gdlTotal)

Apoios = np.array([[0, 1, 1],[9, 1, 1]]) 
NumApo, lixo = Apoios.shape

nGdlRestrito, gdlRestrito = graus_de_lib_restritos(NumApo, Apoios)
print(nGdlRestrito)
print(gdlRestrito)

nGdlLivre, gdlLivre = graus_de_lib_livres(gdlTotal, gdlRestrito)
print(nGdlLivre)
print(gdlLivre)

ForExtNo = np.array([[3, 5000, 0],[4, 5000, 0]])
NumForNodal, lixo = ForExtNo.shape
print(NumForNodal)
print(ForExtNo)

teste = forca_nodal(nGdlTotal, NumForNodal, ForExtNo)
print(teste)




