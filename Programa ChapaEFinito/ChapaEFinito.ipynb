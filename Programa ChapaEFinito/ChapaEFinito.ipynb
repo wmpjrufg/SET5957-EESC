{
 "cells": [
  {
   "cell_type": "code",
   "execution_count": 1,
   "metadata": {
    "scrolled": true
   },
   "outputs": [],
   "source": [
    "import numpy as np"
   ]
  },
  {
   "cell_type": "code",
   "execution_count": 2,
   "metadata": {},
   "outputs": [
    {
     "name": "stdout",
     "output_type": "stream",
     "text": [
      "[[3.e-01 5.e+02 0.e+00]\n",
      " [4.e-01 5.e+02 0.e+00]]\n"
     ]
    }
   ],
   "source": [
    "#=========================================================================\n",
    "# ETAPA 1: DECLARAÇÃO DOS PARÂMETROS DE ENTRADA\n",
    "#=========================================================================\n",
    "\n",
    "# Livro D. Logan: Exemplo 2  pág. 356\n",
    "\n",
    "# Passo 1.1: Matriz de coordenadas\n",
    "Coord = np.array([[0, 0],[10, 0],[10, 20],[20, 0]])\n",
    "NumNos, lixo = Coord.shape\n",
    "\n",
    "# Passo 1.2: Matriz de materiais dada formato de curva\n",
    "Mat = np.array([[ 2.5E7,  0.3]])\n",
    "NumMat, lixo = Mat.shape\n",
    "\n",
    "# Passo 1.3: Matriz de seções\n",
    "Sec =  np.array([[1]])\n",
    "NumSec, lixo = Sec.shape\n",
    "\n",
    "# Passo 1.4: Matriz de elementos\n",
    "Elem = np.array([[1, 3, 2, 1, 1],[1, 4, 3, 1, 1]])\n",
    "NumElem, lixo = Elem.shape\n",
    "\n",
    "# Passo 1.5: Matriz de apoios\n",
    "Apo = np.array([[1, 1, 1],[2, 1, 1]])\n",
    "NumApo, lixo = Apo.shape\n",
    "\n",
    "# Passo 1.6: Matriz de Forças nodais\n",
    "ForExtNo = np.array([[3, 5000, 0],[4, 5000, 0]])\n",
    "NumForNodal, lixo = ForExtNo.shape\n",
    "\n",
    "# Passo 1.6: Matriz de Forças nodais\n",
    "ForExtNo = np.array([[3, 5000, 0],[4, 5000, 0]])\n",
    "NumForNodal, lixo = ForExtNo.shape\n",
    "\n",
    "# Passo 1.7: Tipo do Elemento finito e descrições do processo de solução\n",
    "TipoMalha = \"CST0001\"\n",
    "TipoPresc = \"Força\"\n",
    "NumIncrem = 10\n",
    "\n",
    "teste = ForExtNo/NumIncrem\n",
    "\n",
    "print(teste)"
   ]
  },
  {
   "cell_type": "code",
   "execution_count": 3,
   "metadata": {},
   "outputs": [],
   "source": [
    "#=========================================================================\n",
    "# ETAPA 2: DETERMINAÇÃO DOS GRAUS DE LIBEDADE \n",
    "#=========================================================================\n",
    "\n",
    "# Passo 1.1: Matriz de coordenadas"
   ]
  },
  {
   "cell_type": "code",
   "execution_count": 4,
   "metadata": {},
   "outputs": [],
   "source": [
    "#=========================================================================\n",
    "# ETAPA 3: FASE DE SOLUÇÃO POR CONDIÇÃO IMPOSTA\n",
    "#=========================================================================\n"
   ]
  },
  {
   "cell_type": "code",
   "execution_count": 5,
   "metadata": {},
   "outputs": [],
   "source": [
    "#=========================================================================\n",
    "# ETAPA 4: ESCRITA DOS RESULTADOS EM UM ARQUIVO DE SAÍDA\n",
    "#=========================================================================\n"
   ]
  }
 ],
 "metadata": {
  "kernelspec": {
   "display_name": "Python 3",
   "language": "python",
   "name": "python3"
  },
  "language_info": {
   "codemirror_mode": {
    "name": "ipython",
    "version": 3
   },
   "file_extension": ".py",
   "mimetype": "text/x-python",
   "name": "python",
   "nbconvert_exporter": "python",
   "pygments_lexer": "ipython3",
   "version": "3.8.3"
  }
 },
 "nbformat": 4,
 "nbformat_minor": 4
}
