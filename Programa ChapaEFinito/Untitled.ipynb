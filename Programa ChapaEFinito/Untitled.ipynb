{
 "cells": [
  {
   "cell_type": "code",
   "execution_count": null,
   "metadata": {},
   "outputs": [],
   "source": [
    "forcaCompleta = np.zeros((int(numGdlTotal),1))\n",
    "rigidezCompleta = np.zeros((8,8))\n",
    "for elem in range(numElem):\n",
    "    # Determinação das propriedades de um elemento\n",
    "    coordenadasElemento, fatorE, fatorNu, constitutivaC, espessura, grauGlobal = propriedades_do_elemento(elem, tipoEstado, tipoMalha, elementosProp, materiais, secoes, coordenadas)\n",
    "    # Montagem da matriz de rigidez para os elementos via integração numérica\n",
    "    if tipoMalha == 'CST'\n",
    "        RigidezElemento = rigidez_elemento_cst(CoordenadasXe, espessura)\n",
    "    # Montagem da matriz de rigidez completa\n",
    "    rigidezCompleta = matriz_rigidez_estrutura(grauGlobal, rigidezCompleta, RigidezElemento):\n",
    "    # Vetor de forças elementares para carregamento distribuído\n",
    "    if tipoMalha == 'CST'\n",
    "        forcaElemento = forca_distribuida_cst(elem, forcaDistribuida, coordenadasElemento)\n",
    "    forcaCompleta = vetor_forca_equivalente(grauGlobal, forcaCompleta, forcaElemento)\n",
    "forcaCompleta = forcaCompleta + forcaNodal\n",
    "deslocamento = np.linalg.solve(rigidezCompleta, forcaCompleta)\n",
    "print(deslocamento)"
   ]
  }
 ],
 "metadata": {
  "kernelspec": {
   "display_name": "Python 3",
   "language": "python",
   "name": "python3"
  },
  "language_info": {
   "codemirror_mode": {
    "name": "ipython",
    "version": 3
   },
   "file_extension": ".py",
   "mimetype": "text/x-python",
   "name": "python",
   "nbconvert_exporter": "python",
   "pygments_lexer": "ipython3",
   "version": "3.8.3"
  }
 },
 "nbformat": 4,
 "nbformat_minor": 4
}
