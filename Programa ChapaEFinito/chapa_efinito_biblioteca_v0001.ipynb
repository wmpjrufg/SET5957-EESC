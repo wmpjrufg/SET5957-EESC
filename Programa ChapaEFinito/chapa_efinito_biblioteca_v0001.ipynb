{
 "cells": [
  {
   "cell_type": "markdown",
   "metadata": {},
   "source": [
    "**=========================================================================  \n",
    "BIBLIOTECA: DETERMINAÇÃO DOS GRAUS DE LIBERDADE DOS ELEMENTOS\n",
    "=========================================================================**  "
   ]
  },
  {
   "cell_type": "code",
   "execution_count": 3,
   "metadata": {},
   "outputs": [],
   "source": [
    "def graus_de_lib_totais(nNos, nGrauPorNo):\n",
    "    gdlTotal = []\n",
    "    nGdlTotal = nNos*nGrauPorNo\n",
    "    for grau in range(nGdlTotal): \n",
    "        gdlTotal.append(grau)\n",
    "    return nGdlTotal, gdlTotal\n",
    "    \n",
    "def graus_de_lib_restritos(nApo, Apoios):\n",
    "    gdlRestrito = []\n",
    "    for apo in range(nApo):\n",
    "        noAnalisado = Apoios[apo][0]\n",
    "        restricaoX = Apoios[apo][1]\n",
    "        if restricaoX == 1:\n",
    "            gdlRestrito.append(2*noAnalisado)\n",
    "        restricaoY = Apoios[apo][2]\n",
    "        if restricaoY == 1:\n",
    "            gdlRestrito.append(2*noAnalisado + 1)\n",
    "    nGdlRestrito = len(gdlRestrito)\n",
    "    return nGdlRestrito, gdlRestrito\n",
    "    \n",
    "def graus_de_lib_livres(gdlTotal, gdlRestrito):\n",
    "    gdlLivre = np.setdiff1d(gdlTotal, gdlRestrito)\n",
    "    nGdlLivre = len(gdlLivre)\n",
    "    return nGdlLivre, gdlLivre\n",
    "\n",
    "def forca_nodal(nGdlTotal, NumForNodal, ForExtNo):\n",
    "    forcaNodal = np.zeros(shape=(nGdlTotal,1))\n",
    "    for forca in range(NumForNodal):\n",
    "        print(forca)\n",
    "        noAnalisado = ForExtNo[forca][0]\n",
    "        forcaX = ForExtNo[forca][1]\n",
    "        forcaY = ForExtNo[forca][2]\n",
    "        forcaNodal[2*noAnalisado][0] = forcaX\n",
    "        forcaNodal[2*noAnalisado + 1][0] = forcaY\n",
    "    return forcaNodal\n",
    "\n",
    "\n"
   ]
  },
  {
   "cell_type": "code",
   "execution_count": 2,
   "metadata": {},
   "outputs": [
    {
     "name": "stdout",
     "output_type": "stream",
     "text": [
      "20\n",
      "[0, 1, 2, 3, 4, 5, 6, 7, 8, 9, 10, 11, 12, 13, 14, 15, 16, 17, 18, 19]\n",
      "4\n",
      "[0, 1, 18, 19]\n",
      "16\n",
      "[ 2  3  4  5  6  7  8  9 10 11 12 13 14 15 16 17]\n",
      "2\n",
      "[[   3 5000    0]\n",
      " [   4 5000    0]]\n",
      "0\n",
      "1\n",
      "[[   0.]\n",
      " [   0.]\n",
      " [   0.]\n",
      " [   0.]\n",
      " [   0.]\n",
      " [   0.]\n",
      " [5000.]\n",
      " [   0.]\n",
      " [5000.]\n",
      " [   0.]\n",
      " [   0.]\n",
      " [   0.]\n",
      " [   0.]\n",
      " [   0.]\n",
      " [   0.]\n",
      " [   0.]\n",
      " [   0.]\n",
      " [   0.]\n",
      " [   0.]\n",
      " [   0.]]\n"
     ]
    }
   ],
   "source": [
    "import numpy as np\n",
    "nNos = 10\n",
    "nGrauPorNo = 2\n",
    "TipoMalha = \"CST0001\"\n",
    "TipoPresc = \"Força\"\n",
    "NumIncrem = 10\n",
    "\n",
    "nGdlTotal, gdlTotal = graus_de_lib_totais(nNos, nGrauPorNo)\n",
    "print(nGdlTotal)\n",
    "print(gdlTotal)\n",
    "\n",
    "Apoios = np.array([[0, 1, 1],[9, 1, 1]]) \n",
    "NumApo, lixo = Apoios.shape\n",
    "\n",
    "nGdlRestrito, gdlRestrito = graus_de_lib_restritos(NumApo, Apoios)\n",
    "print(nGdlRestrito)\n",
    "print(gdlRestrito)\n",
    "\n",
    "nGdlLivre, gdlLivre = graus_de_lib_livres(gdlTotal, gdlRestrito)\n",
    "print(nGdlLivre)\n",
    "print(gdlLivre)\n",
    "\n",
    "ForExtNo = np.array([[3, 5000, 0],[4, 5000, 0]])\n",
    "NumForNodal, lixo = ForExtNo.shape\n",
    "print(NumForNodal)\n",
    "print(ForExtNo)\n",
    "\n",
    "teste = forca_nodal(nGdlTotal, NumForNodal, ForExtNo)\n",
    "print(teste)"
   ]
  },
  {
   "cell_type": "code",
   "execution_count": null,
   "metadata": {},
   "outputs": [],
   "source": []
  }
 ],
 "metadata": {
  "kernelspec": {
   "display_name": "Python 3",
   "language": "python",
   "name": "python3"
  },
  "language_info": {
   "codemirror_mode": {
    "name": "ipython",
    "version": 3
   },
   "file_extension": ".py",
   "mimetype": "text/x-python",
   "name": "python",
   "nbconvert_exporter": "python",
   "pygments_lexer": "ipython3",
   "version": "3.8.3"
  }
 },
 "nbformat": 4,
 "nbformat_minor": 4
}
